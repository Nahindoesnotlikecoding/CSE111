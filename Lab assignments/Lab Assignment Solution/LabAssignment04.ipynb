{
  "nbformat": 4,
  "nbformat_minor": 0,
  "metadata": {
    "colab": {
      "provenance": []
    },
    "kernelspec": {
      "name": "python3",
      "display_name": "Python 3"
    },
    "language_info": {
      "name": "python"
    }
  },
  "cells": [
    {
      "cell_type": "code",
      "source": [
        "#home task 1\n",
        "class Customer:\n",
        "    def __init__(self):\n",
        "        print(\"Welcome to ABC Memorial Park\")\n",
        "        self.num_of_ticket = 0\n",
        "        self.total_price = 0\n",
        "    def buyTicket(self, name, age):\n",
        "        if self.num_of_ticket < 3:\n",
        "            self.name = name\n",
        "            self.age = age\n",
        "            self.num_of_ticket += 1\n",
        "            print(f\"Successfully purchased a ticket for {self.name}!\")\n",
        "            if self.age > 10:\n",
        "                self.total_price += 100\n",
        "            else:\n",
        "                self.total_price += 50\n",
        "        else:\n",
        "            print(\"You can't buy more than 3 tickets\")\n",
        "    def showDetails(self):\n",
        "        print(f\"Amount of tickets: {self.num_of_ticket}\")\n",
        "        print(f\"Total price: {self.total_price} Taka\")\n",
        "\n",
        "print('1-------------------------')\n",
        "customer1 = Customer()\n",
        "print('2-------------------------')\n",
        "customer1.buyTicket('Bob', 23)\n",
        "customer1.buyTicket('Henry', 7)\n",
        "customer1.buyTicket('Alexa', 30)\n",
        "customer1.buyTicket('Jonas', 43)\n",
        "print('3-------------------------')\n",
        "customer1.showDetails()\n",
        "print('4-------------------------')\n",
        "customer2 = Customer()\n",
        "print('5-------------------------')\n",
        "customer2.buyTicket('Harry', 60)\n",
        "customer2.buyTicket('Tomas', 28)\n",
        "print('6-------------------------')\n",
        "customer2.showDetails()\n"
      ],
      "metadata": {
        "colab": {
          "base_uri": "https://localhost:8080/"
        },
        "id": "MxUzls9RE-fJ",
        "outputId": "5994de0e-c93c-479a-e1af-02b4f578ccf6"
      },
      "execution_count": 1,
      "outputs": [
        {
          "output_type": "stream",
          "name": "stdout",
          "text": [
            "1-------------------------\n",
            "Welcome to ABC Memorial Park\n",
            "2-------------------------\n",
            "Successfully purchased a ticket for Bob!\n",
            "Successfully purchased a ticket for Henry!\n",
            "Successfully purchased a ticket for Alexa!\n",
            "You can't buy more than 3 tickets\n",
            "3-------------------------\n",
            "Amount of tickets: 3\n",
            "Total price: 250 Taka\n",
            "4-------------------------\n",
            "Welcome to ABC Memorial Park\n",
            "5-------------------------\n",
            "Successfully purchased a ticket for Harry!\n",
            "Successfully purchased a ticket for Tomas!\n",
            "6-------------------------\n",
            "Amount of tickets: 2\n",
            "Total price: 200 Taka\n"
          ]
        }
      ]
    },
    {
      "cell_type": "code",
      "source": [
        "#home task 2\n",
        "class Panda:\n",
        "    def __init__(self, name, gender, age):\n",
        "        self.name = name\n",
        "        self.gender = gender\n",
        "        self.age = age\n",
        "    def sleep(self, hours):\n",
        "        self.hours = hours\n",
        "        if 3 <= self.hours <= 5:\n",
        "            return f\"{self.name} sleeps {self.hours} hours daily and should have Mixed Veggies\"\n",
        "        elif 6 <= self.hours <= 8:\n",
        "            return f\"{self.name} sleeps {self.hours} hours daily and should have Eggplant & Tofu\"\n",
        "        elif 9 <= self.hours <= 11:\n",
        "            return f\"{self.name} sleeps {self.hours} hours daily and should have Broccoli Chicken\"\n",
        "        else:\n",
        "            return f\"{self.name}'s duration is {self.hours} thus should have only bamboo leaves\"\n",
        "\n",
        "panda1 = Panda(\"Kunfu\", \"Male\", 5)\n",
        "panda2 = Panda(\"Pan Pan\", \"Female\",3)\n",
        "panda3 = Panda(\"Ming Ming\", \"Female\",8)\n",
        "\n",
        "print(\"{} is a {} Panda Bear who is {} years old\".format(panda1.name,panda1.gender,panda1.age))\n",
        "\n",
        "print(\"{} is a {} Panda Bear who is {} years old\".format(panda2.name,panda2.gender,panda2.age))\n",
        "\n",
        "print(\"{} is a {} Panda Bear who is {} years old\".format(panda3.name,panda3.gender,panda3.age))\n",
        "print(\"===========================\")\n",
        "print(panda2.sleep(10))\n",
        "print(panda1.sleep(4))\n",
        "print(panda3.sleep(13))\n"
      ],
      "metadata": {
        "colab": {
          "base_uri": "https://localhost:8080/"
        },
        "id": "FFJh9F0bFKTS",
        "outputId": "276bac6c-9950-427a-d27f-86f0cf136d90"
      },
      "execution_count": 2,
      "outputs": [
        {
          "output_type": "stream",
          "name": "stdout",
          "text": [
            "Kunfu is a Male Panda Bear who is 5 years old\n",
            "Pan Pan is a Female Panda Bear who is 3 years old\n",
            "Ming Ming is a Female Panda Bear who is 8 years old\n",
            "===========================\n",
            "Pan Pan sleeps 10 hours daily and should have Broccoli Chicken\n",
            "Kunfu sleeps 4 hours daily and should have Mixed Veggies\n",
            "Ming Ming's duration is 13 thus should have only bamboo leaves\n"
          ]
        }
      ]
    },
    {
      "cell_type": "code",
      "source": [
        "#home task 3\n",
        "class GreenPhone:\n",
        "    def __init__(self, model, version, cameras):\n",
        "        self.model = model\n",
        "        self.version = version\n",
        "        self.cameras = cameras\n",
        "        self.count = 0\n",
        "    def showSpecification(self):\n",
        "        print(f\"Phone Company: GreenPhone\")\n",
        "        print(f\"Model Name: {self.model}\")\n",
        "        print(f\"Android Version: {self.version}\")\n",
        "        print(f\"Number of Cameras: {self.cameras}\")\n",
        "    def updatePhone(self):\n",
        "        if self.model[0] == \"A\" and self.count < 2:\n",
        "            self.count += 1\n",
        "            self.version += 1\n",
        "            print(f\"Your phone Greenphone {self.model} is upgraded to Android Version: {self.version}.\")\n",
        "        elif self.model[0] == \"M\" and self.count < 3:\n",
        "            self.count += 1\n",
        "            self.version += 1\n",
        "            print(f\"Your phone Greenphone {self.model} is upgraded to Android Version: {self.version}.\")\n",
        "        elif self.model[0] == \"U\" and self.count < 4:\n",
        "            self.count += 1\n",
        "            self.version += 1\n",
        "            print(f\"Your phone Greenphone {self.model} is upgraded to Android Version: {self.version}.\")\n",
        "        else:\n",
        "            print(f\"Your phone Greenphone {self.model} is already up to date.\")\n",
        "\n",
        "\n",
        "print('1=======================')\n",
        "p1 = GreenPhone('A1', 12, 3)\n",
        "p2 = GreenPhone('M11', 12, 4)\n",
        "p3 = GreenPhone('U20', 12, 5)\n",
        "p1.showSpecification()\n",
        "print('2=======================')\n",
        "p2.showSpecification()\n",
        "print('3=======================')\n",
        "p1.updatePhone()\n",
        "print('4=======================')\n",
        "p1.updatePhone()\n",
        "p2.updatePhone()\n",
        "p3.updatePhone()\n",
        "print('5=======================')\n",
        "p1.updatePhone()\n",
        "p2.updatePhone()\n",
        "p3.updatePhone()\n",
        "print('6=======================')\n",
        "p2.updatePhone()\n",
        "p3.updatePhone()\n",
        "print('7=======================')\n",
        "p1.showSpecification()\n",
        "p3.showSpecification()"
      ],
      "metadata": {
        "id": "l8ynScjFHm1h",
        "colab": {
          "base_uri": "https://localhost:8080/"
        },
        "outputId": "c7df1a56-6271-41ec-c78b-a5b85b33793f"
      },
      "execution_count": 3,
      "outputs": [
        {
          "output_type": "stream",
          "name": "stdout",
          "text": [
            "1=======================\n",
            "Phone Company: GreenPhone\n",
            "Model Name: A1\n",
            "Android Version: 12\n",
            "Number of Cameras: 3\n",
            "2=======================\n",
            "Phone Company: GreenPhone\n",
            "Model Name: M11\n",
            "Android Version: 12\n",
            "Number of Cameras: 4\n",
            "3=======================\n",
            "Your phone Greenphone A1 is upgraded to Android Version: 13.\n",
            "4=======================\n",
            "Your phone Greenphone A1 is upgraded to Android Version: 14.\n",
            "Your phone Greenphone M11 is upgraded to Android Version: 13.\n",
            "Your phone Greenphone U20 is upgraded to Android Version: 13.\n",
            "5=======================\n",
            "Your phone Greenphone A1 is already up to date.\n",
            "Your phone Greenphone M11 is upgraded to Android Version: 14.\n",
            "Your phone Greenphone U20 is upgraded to Android Version: 14.\n",
            "6=======================\n",
            "Your phone Greenphone M11 is upgraded to Android Version: 15.\n",
            "Your phone Greenphone U20 is upgraded to Android Version: 15.\n",
            "7=======================\n",
            "Phone Company: GreenPhone\n",
            "Model Name: A1\n",
            "Android Version: 14\n",
            "Number of Cameras: 3\n",
            "Phone Company: GreenPhone\n",
            "Model Name: U20\n",
            "Android Version: 15\n",
            "Number of Cameras: 5\n"
          ]
        }
      ]
    },
    {
      "cell_type": "code",
      "source": [
        "#home task 4\n",
        "class StudentDatabase:\n",
        "    def __init__(self, name, id):\n",
        "        self.name = name\n",
        "        self.id = id\n",
        "        self.grades = {}\n",
        "        self.gpa = 0\n",
        "    def calculateGPA(self, lst, semester):\n",
        "        self.lst = lst\n",
        "        self.semester = semester\n",
        "        self.grades.update({self.semester: {}})\n",
        "        new_lst = []\n",
        "        gpa = 0\n",
        "        for i in range(len(self.lst)):\n",
        "            x = self.lst[i].split(\": \")\n",
        "            new_lst.append(x[0])\n",
        "            gpa += float(x[1])*3\n",
        "        self.gpa = round(gpa/(len(lst)*3), 2)\n",
        "        self.grades[self.semester].update({tuple(new_lst): self.gpa})\n",
        "    def printDetails(self):\n",
        "        print(\"Name:\", self.name)\n",
        "        print(\"ID:\", self.id)\n",
        "        for i, j in self.grades.items():\n",
        "            print(f\"Courses taken in {i}:\")\n",
        "            for k, l in j.items():\n",
        "               for m in k:\n",
        "                   print(m)\n",
        "               print(\"CGPA:\", l)\n",
        "\n",
        "s1 = StudentDatabase('Pietro', '10101222')\n",
        "s1.calculateGPA(['CSE230: 4.0', 'CSE220: 4.0', 'MAT110: 4.0'], 'Summer2020')\n",
        "s1.calculateGPA(['CSE250: 3.7', 'CSE330: 4.0'], 'Summer2021')\n",
        "print(f'Grades for {s1.name}\\n{s1.grades}')\n",
        "print('---------------------------------')\n",
        "s1.printDetails()\n",
        "s2 = StudentDatabase('Wanda', '10103332')\n",
        "s2.calculateGPA(['CSE111: 3.7', 'CSE260: 3.7', 'ENG101: 4.0'], 'Summer2022')\n",
        "print('---------------------------------')\n",
        "print(f'Grades for {s2.name}\\n{s2.grades}')\n",
        "print('---------------------------------')\n",
        "s2.printDetails()"
      ],
      "metadata": {
        "colab": {
          "base_uri": "https://localhost:8080/"
        },
        "id": "HgvekCGAM9mi",
        "outputId": "b584ef21-48f3-45e3-cc38-66208be9edd2"
      },
      "execution_count": 5,
      "outputs": [
        {
          "output_type": "stream",
          "name": "stdout",
          "text": [
            "Grades for Pietro\n",
            "{'Summer2020': {('CSE230', 'CSE220', 'MAT110'): 4.0}, 'Summer2021': {('CSE250', 'CSE330'): 3.85}}\n",
            "---------------------------------\n",
            "Name: Pietro\n",
            "ID: 10101222\n",
            "Courses taken in Summer2020:\n",
            "CSE230\n",
            "CSE220\n",
            "MAT110\n",
            "CGPA: 4.0\n",
            "Courses taken in Summer2021:\n",
            "CSE250\n",
            "CSE330\n",
            "CGPA: 3.85\n",
            "---------------------------------\n",
            "Grades for Wanda\n",
            "{'Summer2022': {('CSE111', 'CSE260', 'ENG101'): 3.8}}\n",
            "---------------------------------\n",
            "Name: Wanda\n",
            "ID: 10103332\n",
            "Courses taken in Summer2022:\n",
            "CSE111\n",
            "CSE260\n",
            "ENG101\n",
            "CGPA: 3.8\n"
          ]
        }
      ]
    }
  ]
}